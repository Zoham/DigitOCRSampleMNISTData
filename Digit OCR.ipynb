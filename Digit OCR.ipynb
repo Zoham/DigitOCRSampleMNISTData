{
 "cells": [
  {
   "cell_type": "code",
   "execution_count": 13,
   "metadata": {},
   "outputs": [],
   "source": [
    "%run 'Basic Classifiers.ipynb'"
   ]
  },
  {
   "cell_type": "code",
   "execution_count": 14,
   "metadata": {},
   "outputs": [],
   "source": [
    "from mnist import MNIST\n",
    "import numpy as np\n",
    "\n",
    "from keras.datasets import mnist\n",
    "from keras.models import Sequential\n",
    "from keras.models import load_model\n",
    "\n",
    "from keras.layers import Dense\n",
    "from keras.layers import Dropout\n",
    "from keras.layers import Flatten\n",
    "from keras.layers import LSTM\n",
    "from keras.layers import Embedding\n",
    "from keras.layers import Activation\n",
    "from keras.layers import TimeDistributed\n",
    "from keras.layers.convolutional import Conv2D\n",
    "from keras.layers.convolutional import MaxPooling2D\n",
    "\n",
    "from keras.optimizers import Adam\n",
    "from keras.optimizers import Adadelta\n",
    "from keras.optimizers import Adagrad\n",
    "from keras.optimizers import SGD\n",
    "\n",
    "from keras.utils import np_utils\n",
    "from keras.utils import to_categorical"
   ]
  },
  {
   "cell_type": "code",
   "execution_count": 19,
   "metadata": {},
   "outputs": [],
   "source": [
    "data = MNIST('.')\n",
    "X_train, Y_train = data.load_training()\n",
    "X_test, Y_test = data.load_testing()"
   ]
  },
  {
   "cell_type": "code",
   "execution_count": 20,
   "metadata": {},
   "outputs": [
    {
     "name": "stdout",
     "output_type": "stream",
     "text": [
      "\n",
      "............................\n",
      "............................\n",
      "............................\n",
      "............................\n",
      ".................@..........\n",
      "...............@@@@@........\n",
      "..............@@@@@@........\n",
      ".............@@@@@.@@.......\n",
      "............@@@@@@..@.......\n",
      "...........@@@..@@..@.......\n",
      "..........@@@.......@@......\n",
      "..........@@@.......@@......\n",
      ".........@@.........@@......\n",
      "........@@..........@@......\n",
      "........@...........@@......\n",
      ".......@@...........@@......\n",
      ".......@@...........@.......\n",
      ".......@@..........@@.......\n",
      ".......@..........@.........\n",
      ".......@@.......@@..........\n",
      ".......@@.....@@@...........\n",
      ".......@@@@@@@@.............\n",
      "........@@@@@@..............\n",
      ".........@@@................\n",
      "............................\n",
      "............................\n",
      "............................\n",
      "............................\n"
     ]
    }
   ],
   "source": [
    "print data.display(X_train[1])"
   ]
  },
  {
   "cell_type": "code",
   "execution_count": 25,
   "metadata": {},
   "outputs": [],
   "source": [
    "X_train = np.asarray(X_train)\n",
    "Y_train = np.asarray(Y_train)\n",
    "X_test = np.asarray(X_test)\n",
    "Y_test = np.asarray(Y_test)\n",
    "\n",
    "Y_train = to_categorical(Y_train)\n",
    "Y_test = to_categorical(Y_test)"
   ]
  },
  {
   "cell_type": "code",
   "execution_count": 6,
   "metadata": {},
   "outputs": [
    {
     "name": "stdout",
     "output_type": "stream",
     "text": [
      "55.58\n"
     ]
    },
    {
     "data": {
      "text/plain": [
       "array([9, 2, 1, ..., 9, 8, 6])"
      ]
     },
     "execution_count": 6,
     "metadata": {},
     "output_type": "execute_result"
    }
   ],
   "source": [
    "NB(X_train, Y_train, X_test, Y_test)"
   ]
  },
  {
   "cell_type": "code",
   "execution_count": 7,
   "metadata": {},
   "outputs": [
    {
     "name": "stdout",
     "output_type": "stream",
     "text": [
      "87.87\n"
     ]
    },
    {
     "data": {
      "text/plain": [
       "array([7, 2, 1, ..., 4, 5, 6])"
      ]
     },
     "execution_count": 7,
     "metadata": {},
     "output_type": "execute_result"
    }
   ],
   "source": [
    "DT(X_train, Y_train, X_test, Y_test)"
   ]
  },
  {
   "cell_type": "code",
   "execution_count": 39,
   "metadata": {},
   "outputs": [
    {
     "name": "stdout",
     "output_type": "stream",
     "text": [
      "Epoch 1/20\n",
      "60000/60000 [==============================] - 5s 78us/step - loss: 8.4994 - acc: 0.4671\n",
      "Epoch 2/20\n",
      "60000/60000 [==============================] - 4s 67us/step - loss: 5.8059 - acc: 0.6347\n",
      "Epoch 3/20\n",
      "60000/60000 [==============================] - 4s 67us/step - loss: 4.6420 - acc: 0.7051\n",
      "Epoch 4/20\n",
      "60000/60000 [==============================] - 4s 70us/step - loss: 3.7265 - acc: 0.7627\n",
      "Epoch 5/20\n",
      "60000/60000 [==============================] - 4s 68us/step - loss: 3.4569 - acc: 0.7792\n",
      "Epoch 6/20\n",
      "60000/60000 [==============================] - 4s 67us/step - loss: 3.2018 - acc: 0.7953\n",
      "Epoch 7/20\n",
      "60000/60000 [==============================] - 4s 67us/step - loss: 3.0649 - acc: 0.8044\n",
      "Epoch 8/20\n",
      "60000/60000 [==============================] - 4s 71us/step - loss: 2.9703 - acc: 0.8099\n",
      "Epoch 9/20\n",
      "60000/60000 [==============================] - 4s 71us/step - loss: 2.8858 - acc: 0.8150\n",
      "Epoch 10/20\n",
      "60000/60000 [==============================] - 4s 68us/step - loss: 2.8144 - acc: 0.8199\n",
      "Epoch 11/20\n",
      "60000/60000 [==============================] - 4s 66us/step - loss: 2.7491 - acc: 0.8238\n",
      "Epoch 12/20\n",
      "60000/60000 [==============================] - 4s 67us/step - loss: 2.7023 - acc: 0.8273\n",
      "Epoch 13/20\n",
      "60000/60000 [==============================] - 4s 67us/step - loss: 2.6199 - acc: 0.8325\n",
      "Epoch 14/20\n",
      "60000/60000 [==============================] - 4s 68us/step - loss: 2.6262 - acc: 0.8314\n",
      "Epoch 15/20\n",
      "60000/60000 [==============================] - 4s 66us/step - loss: 2.6068 - acc: 0.8332\n",
      "Epoch 16/20\n",
      "60000/60000 [==============================] - 4s 67us/step - loss: 2.5362 - acc: 0.8375\n",
      "Epoch 17/20\n",
      "60000/60000 [==============================] - 4s 68us/step - loss: 2.5266 - acc: 0.8382\n",
      "Epoch 18/20\n",
      "60000/60000 [==============================] - 4s 67us/step - loss: 2.4954 - acc: 0.8400\n",
      "Epoch 19/20\n",
      "60000/60000 [==============================] - 4s 68us/step - loss: 2.4407 - acc: 0.8437\n",
      "Epoch 20/20\n",
      "60000/60000 [==============================] - 4s 67us/step - loss: 2.4527 - acc: 0.8426\n",
      "_________________________________________________________________\n",
      "Layer (type)                 Output Shape              Param #   \n",
      "=================================================================\n",
      "dense_32 (Dense)             (None, 30)                23550     \n",
      "_________________________________________________________________\n",
      "dropout_17 (Dropout)         (None, 30)                0         \n",
      "_________________________________________________________________\n",
      "dense_33 (Dense)             (None, 10)                310       \n",
      "=================================================================\n",
      "Total params: 23,860\n",
      "Trainable params: 23,860\n",
      "Non-trainable params: 0\n",
      "_________________________________________________________________\n",
      "None\n"
     ]
    }
   ],
   "source": [
    "model = Sequential()\n",
    "model.add(Dense(30, input_shape=(X_train.shape[1],)))\n",
    "model.add(Dropout(0.5))\n",
    "model.add(Dense(10, activation = 'softmax'))\n",
    "\n",
    "model.compile(loss = 'categorical_crossentropy', optimizer = Adagrad(), metrics=['accuracy'])\n",
    "model.fit(X_train, Y_train, epochs=20, batch_size=20)\n",
    "model.save('model.h5')\n",
    "print model.summary()"
   ]
  },
  {
   "cell_type": "code",
   "execution_count": 40,
   "metadata": {},
   "outputs": [
    {
     "name": "stdout",
     "output_type": "stream",
     "text": [
      "90.24999955892564\n"
     ]
    }
   ],
   "source": [
    "model = load_model('model.h5')\n",
    "metrics = model.evaluate(X_test, Y_test, verbose=0, batch_size=20)\n",
    "print(metrics[1] * 100)"
   ]
  },
  {
   "cell_type": "code",
   "execution_count": null,
   "metadata": {},
   "outputs": [],
   "source": []
  }
 ],
 "metadata": {
  "kernelspec": {
   "display_name": "Python 2",
   "language": "python",
   "name": "python2"
  },
  "language_info": {
   "codemirror_mode": {
    "name": "ipython",
    "version": 2
   },
   "file_extension": ".py",
   "mimetype": "text/x-python",
   "name": "python",
   "nbconvert_exporter": "python",
   "pygments_lexer": "ipython2",
   "version": "2.7.12"
  }
 },
 "nbformat": 4,
 "nbformat_minor": 2
}
