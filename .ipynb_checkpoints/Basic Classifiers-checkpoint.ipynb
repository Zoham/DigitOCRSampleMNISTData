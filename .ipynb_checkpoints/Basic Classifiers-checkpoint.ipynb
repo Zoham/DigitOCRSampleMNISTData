{
 "cells": [
  {
   "cell_type": "code",
   "execution_count": 1,
   "metadata": {},
   "outputs": [],
   "source": [
    "from sklearn.naive_bayes import GaussianNB\n",
    "from sklearn.tree import DecisionTreeClassifier\n",
    "\n",
    "from sklearn.metrics import confusion_matrix"
   ]
  },
  {
   "cell_type": "code",
   "execution_count": 2,
   "metadata": {},
   "outputs": [],
   "source": [
    "def NB(X_train, Y_train, X_test, Y_test):\n",
    "    gnb = GaussianNB()\n",
    "    Y_pred = gnb.fit(X_train, Y_train).predict(X_test)\n",
    "    \n",
    "    cm = confusion_matrix(Y_test, Y_pred)\n",
    "    acc = (100.0*cm.trace())/cm.sum()\n",
    "    print acc\n",
    "    \n",
    "    return Y_pred"
   ]
  },
  {
   "cell_type": "code",
   "execution_count": 3,
   "metadata": {},
   "outputs": [],
   "source": [
    "def DT(X_train, Y_train, X_test, Y_test):\n",
    "    clf = DecisionTreeClassifier()\n",
    "    Y_pred = clf.fit(X_train, Y_train).predict(X_test)\n",
    "\n",
    "    cm = confusion_matrix(Y_test, Y_pred)\n",
    "    acc = (100.0*cm.trace())/cm.sum()\n",
    "    print acc\n",
    "    \n",
    "    return Y_pred"
   ]
  }
 ],
 "metadata": {
  "kernelspec": {
   "display_name": "Python 2",
   "language": "python",
   "name": "python2"
  },
  "language_info": {
   "codemirror_mode": {
    "name": "ipython",
    "version": 2
   },
   "file_extension": ".py",
   "mimetype": "text/x-python",
   "name": "python",
   "nbconvert_exporter": "python",
   "pygments_lexer": "ipython2",
   "version": "2.7.12"
  }
 },
 "nbformat": 4,
 "nbformat_minor": 2
}
